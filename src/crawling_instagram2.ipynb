{
 "cells": [
  {
   "cell_type": "markdown",
   "id": "0575792a",
   "metadata": {},
   "source": [
    "#### 필요 라이브러리 Import "
   ]
  },
  {
   "cell_type": "code",
   "execution_count": 6,
   "id": "ea0018a6",
   "metadata": {},
   "outputs": [],
   "source": [
    "from selenium import webdriver\n",
    "from tqdm.notebook import tqdm\n",
    "from bs4 import BeautifulSoup\n",
    "import time\n",
    "import re\n",
    "import unicodedata\n",
    "import requests"
   ]
  },
  {
   "cell_type": "markdown",
   "id": "98642e48",
   "metadata": {},
   "source": [
    "#### 드라이버 기본 설정 "
   ]
  },
  {
   "cell_type": "code",
   "execution_count": 79,
   "id": "5fe69587",
   "metadata": {},
   "outputs": [],
   "source": [
    "options = webdriver.ChromeOptions()\n",
    "options.add_argument('--no-sandbox')\n",
    "options.add_argument('--disable-dev-shm-usage')\n",
    "options.add_experimental_option(\"excludeSwitches\", [\"enable-logging\"])\n",
    "\n",
    "driver = webdriver.Chrome(\"./chromedriver.exe\", options=options)"
   ]
  },
  {
   "cell_type": "markdown",
   "id": "4ea04bab",
   "metadata": {},
   "source": [
    "#### Instagram 접속 "
   ]
  },
  {
   "cell_type": "code",
   "execution_count": 80,
   "id": "eccc7dbd",
   "metadata": {},
   "outputs": [],
   "source": [
    "driver.get('https://www.instagram.com')   \n",
    "time.sleep(2)"
   ]
  },
  {
   "cell_type": "markdown",
   "id": "ee223578",
   "metadata": {},
   "source": [
    "#### Instagram login"
   ]
  },
  {
   "cell_type": "code",
   "execution_count": 81,
   "id": "22451e16",
   "metadata": {},
   "outputs": [
    {
     "name": "stdout",
     "output_type": "stream",
     "text": [
      "이메일을 입력하세요.pomate@g.skku.edu\n",
      "비밀번호를 입력하세요. 결과 창에 비밀번호가 공개되는 것을 방지하려면 아무것도 입력하지 마세요.            생성된 크롬창에서 직접 비밀번호를 입력하세요.Dhwoehd12\n",
      "인스타그램 로그인 확인을 위한 10초 타이머 시작\n"
     ]
    },
    {
     "data": {
      "application/vnd.jupyter.widget-view+json": {
       "model_id": "c72475a97b3f419eb9a37258c4971df3",
       "version_major": 2,
       "version_minor": 0
      },
      "text/plain": [
       "  0%|          | 0/10 [00:00<?, ?it/s]"
      ]
     },
     "metadata": {},
     "output_type": "display_data"
    }
   ],
   "source": [
    "email = input('이메일을 입력하세요.')\n",
    "pw = input('비밀번호를 입력하세요. 결과 창에 비밀번호가 공개되는 것을 방지하려면 아무것도 입력하지 마세요.\\\n",
    "            생성된 크롬창에서 직접 비밀번호를 입력하세요.')\n",
    "\n",
    "# id 입력 \n",
    "input_id = driver.find_elements_by_css_selector('input._2hvTZ.pexuQ.zyHYP')[0]\n",
    "input_id.clear()\n",
    "input_id.send_keys(email)\n",
    "\n",
    "# pw 입력 \n",
    "input_pw = driver.find_elements_by_css_selector('input._2hvTZ.pexuQ.zyHYP')[1]\n",
    "input_pw.clear()\n",
    "input_pw.send_keys(pw)\n",
    "input_pw.submit()\n",
    "\n",
    "print('인스타그램 로그인 확인을 위한 10초 타이머 시작')\n",
    "for i in tqdm(range(10)):   # 로그인 확인을 위한 대기시간 10초 \n",
    "    time.sleep(1)"
   ]
  },
  {
   "cell_type": "markdown",
   "id": "f3de9a95",
   "metadata": {},
   "source": [
    "#### 인스타 계정 검색 "
   ]
  },
  {
   "cell_type": "code",
   "execution_count": 10,
   "id": "a90aad13",
   "metadata": {},
   "outputs": [],
   "source": [
    "def insta_searching(insta_id):\n",
    "    '''\n",
    "    검색하고 싶은 해시태그를 입력으로 받아, url을 반환\n",
    "    '''\n",
    "    url = 'https://www.instagram.com/' + insta_id\n",
    "    return url"
   ]
  },
  {
   "cell_type": "markdown",
   "id": "525de753",
   "metadata": {},
   "source": [
    "#### 계정 정보 크롤링하기 \n",
    "- 해당 코드를 모두 실행하면 2개 파일이 생성됨 \n",
    "- 계정 자체 정보를 가지고 있는 csv 파일 \n",
    "- 계정의 최근 9개 게시물 정보를 가지고 있는 csv 파일"
   ]
  },
  {
   "cell_type": "raw",
   "id": "94ef7a21",
   "metadata": {},
   "source": [
    "crawling test 계정: seoul.taste, blackpinkofficial, nakedbibi, lotte_cf, hyeri_0609"
   ]
  },
  {
   "cell_type": "code",
   "execution_count": 35,
   "id": "adf77001",
   "metadata": {},
   "outputs": [],
   "source": [
    "def select_first(driver):\n",
    "    '''\n",
    "    해당 계정의 게시글 중 첫번째 게시물을 선택하는 함수\n",
    "    '''\n",
    "    for idx in range(5):\n",
    "        try:\n",
    "            driver.find_element_by_xpath(f'//*[@id=\"react-root\"]/div/div/section/main/div/div[{idx}]\\\n",
    "            /article/div[1]/div/div[1]/div[1]/a/div[1]/div[2]').click()\n",
    "        except:\n",
    "            continue\n",
    "    time.sleep(3)"
   ]
  },
  {
   "cell_type": "code",
   "execution_count": 67,
   "id": "6d2849c9",
   "metadata": {},
   "outputs": [],
   "source": [
    "def get_account_info(driver):\n",
    "    '''\n",
    "    계정 정보 크롤링 \n",
    "    계정 ID, 게시글 수, 팔로워 수를 크롤링해서 반환\n",
    "    '''\n",
    "    html = driver.page_source\n",
    "    soup = BeautifulSoup(html, 'html.parser') \n",
    "    try:   # 계정 ID 정보 가져오기\n",
    "        account = driver.find_element_by_xpath('//*[@id=\"react-root\"]/div/div/section/main/div/header/section/div[1]/h2').text \n",
    "        print(account)\n",
    "    except:\n",
    "        account = ''\n",
    "    try:   # 게시글 수 가져오기 \n",
    "        num_contents = driver.find_element_by_xpath('//*[@id=\"react-root\"]/div/div/section/main/div/header/section/ul/li[1]/div/span').text \n",
    "    except:\n",
    "        num_contents = 0\n",
    "    try: \n",
    "        num_followers = driver.find_element_by_xpath('//*[@id=\"react-root\"]/div/div/section/main/div/header/section/ul/li[2]/a/div/span').text\n",
    "    except:\n",
    "        num_followers = 0 \n",
    "    data = [account, num_contents, num_followers]\n",
    "    return data "
   ]
  },
  {
   "cell_type": "code",
   "execution_count": 70,
   "id": "64826c1a",
   "metadata": {},
   "outputs": [],
   "source": [
    "def get_content(driver):\n",
    "    '''\n",
    "    크롤링할 콘텐츠 지정 \n",
    "    본문 내용, 좋아요 수, 위치정보, 해시태그, 댓글 수를 크롤링해서 반환  \n",
    "    '''\n",
    "    # 현재 페이지 html 정보 가져오기\n",
    "    html = driver.page_source\n",
    "    soup = BeautifulSoup(html, 'html.parser') \n",
    "    try: \n",
    "        account = driver.find_elemnet_by_xpath('/html/body/div[6]/div[3]/div/article/div/div[2]/div/div/div[1]/div/header/div[2]/div[1]/div[1]/div[1]/span/a').text \n",
    "    except:\n",
    "        account = ''\n",
    "    try:   # 본문 내용 가져오기\n",
    "        content = driver.find_element_by_xpath('/html/body/div[6]/div[3]/div/article/div/div[2]/div/div/div[2]/div[1]\\\n",
    "        /ul/div/li/div/div/div[2]/div[1]/span').text \n",
    "        print(content)\n",
    "        # content = unicodedata.normalize('NFC', content) \n",
    "    except:\n",
    "        content = ''\n",
    "    # 본문 내용에서 해시태그 가져오기(정규식 활용)\n",
    "    tags = re.findall(r'#[^\\s#,\\\\]+', content)  \n",
    "    try:   # 좋아요 수 가져오기  \n",
    "        like = driver.find_element_by_xpath('/html/body/div[6]/div[3]/div/article/div/div[2]/div/div/div[2]/section[2]/\\\n",
    "        div/div/div/a/div/span').text    \n",
    "    except:\n",
    "        like = 0\n",
    "    try:   # 위치정보 가져오기\n",
    "        place = soup.select('div.M30cS')[0].text\n",
    "        place = unicodedata.normalize('NFC', place)\n",
    "    except:\n",
    "        place = ''\n",
    "    try:   # 댓글 수 가져오기\n",
    "        flag = True \n",
    "     \n",
    "        while flag:\n",
    "            try: \n",
    "                driver.find_element_by_xpath('/html/body/div[6]/div[3]/div/article/div/div[2]/div/div/div[2]/div[1]/ul/li/div/button').click()\n",
    "                time.sleep(2)\n",
    "            except:\n",
    "                flag = False\n",
    "                \n",
    "        for idx in range(1, 99999):\n",
    "            try:  # 댓글 정보 수집 \n",
    "                comment = driver.find_element_by_xpath(f'/html/body/div[6]/div[3]/div/article/div/div[2]/div/div/div[2]/div[1]/ul/ul[{idx}]/div/li/div/div/div[2]/div[1]/span').text\n",
    "                # print(comment)\n",
    "            except:  # 댓글 수집이 불가한 경우 \n",
    "                print(idx)\n",
    "                break\n",
    "        num_comment = idx \n",
    "    except:\n",
    "        num_comment = 0 \n",
    "    # 수집한 정보 저장하기\n",
    "    data = [account, content, like, place, tags, num_comment]\n",
    "    return data"
   ]
  },
  {
   "cell_type": "code",
   "execution_count": 74,
   "id": "749d29bb",
   "metadata": {},
   "outputs": [],
   "source": [
    "def account_crawling(driver):\n",
    "    '''\n",
    "    계정 id를 입력받아 해당 계정의 id, 게시글 수, 팔로워 수 정보(account_info)와\n",
    "    해당 계정의 최근 9개 게시글에 관한 정보(content_info) 반환 \n",
    "    '''\n",
    "    word = input('수집할 계정 id를 입력해주세요: ')    # 검색어\n",
    "    url = insta_searching(word)\n",
    "    driver.get(url)\n",
    "    time.sleep(5)\n",
    "    \n",
    "    account_info = get_account_info(driver)\n",
    "    content_info = [] \n",
    "    select_first(driver)\n",
    "    time.sleep(3)\n",
    "    \n",
    "    # 최근 9개 정보 수집 \n",
    "    for idx in tqdm(range(1, 10)):\n",
    "        try:\n",
    "            data = get_content(driver)    # 게시글 정보 가져오기\n",
    "            content_info.append(data)\n",
    "            if idx == 1:\n",
    "                driver.find_element_by_xpath('/html/body/div[6]/div[2]/div/div/button').click()\n",
    "                time.sleep(1)\n",
    "            else:\n",
    "                driver.find_element_by_xpath('/html/body/div[6]/div[2]/div/div[2]/button').click()\n",
    "                time.sleep(1)\n",
    "        except:\n",
    "            continue \n",
    "    \n",
    "    return account_info, content_info"
   ]
  },
  {
   "cell_type": "code",
   "execution_count": 82,
   "id": "eb6ec80e",
   "metadata": {},
   "outputs": [
    {
     "name": "stdout",
     "output_type": "stream",
     "text": [
      "수집할 계정 id를 입력해주세요: seoul_official\n",
      "seoul_official\n"
     ]
    },
    {
     "data": {
      "application/vnd.jupyter.widget-view+json": {
       "model_id": "ee3e315ac27c4b9bb0a1762915043b12",
       "version_major": 2,
       "version_minor": 0
      },
      "text/plain": [
       "  0%|          | 0/9 [00:00<?, ?it/s]"
      ]
     },
     "metadata": {},
     "output_type": "display_data"
    },
    {
     "name": "stdout",
     "output_type": "stream",
     "text": [
      "#서울플레이리스트 🌺\n",
      "지금은 튤립과 라일락의 시간,\n",
      "다섯번째 트랙 “로맨틱 봄날🌷”\n",
      "\n",
      "#사랑을전하는서울 #💗\n",
      "#봄날 #튤립 #라일락 #로맨틱\n",
      "\n",
      "※ 매주 목요일마다 인스타그램 속 #서울의봄 풍경을 발굴해 소개해 드리는 #서울플레이리스트 시리즈!\n",
      "다음 주는 어린이 날로 한 주 쉬어갑니다 👶\n",
      "5월 둘째 주 목요일에 만나요~ :-)\n",
      "\n",
      "👇사진 속 장소는👇\n",
      "📷 1, 2, 6. #연희숲속쉼터 #Ansan Mountain\n",
      "📷 3, 5. #서울숲 #SeoulForest\n",
      "📷 4, 7. #중랑천 #Jungnangcheon Stream\n",
      "📷 8. #회현동 (#연세대학교세브란스빌딩 ) #Hoehyeondong\n",
      "📷 9. #창동 #Changdong\n",
      "📷 10. #합정동 #Hapjeongdong\n",
      "\n",
      "#나와서울\n",
      "#seoul_official\n",
      "18\n",
      "수변테라스에서 커피 마시는 갬성..☕\n",
      "도림·정릉·홍제천 대변신 예고!😎\n",
      "\n",
      "📣#서울형_수변감성도시 사업 본격 추진! 실개천과 소하천 등을 중심으로 단순히 물리적 구조 정비가 아닌, 수변의 감성을 느끼면서 다양한 야외활동이 가능하도록 서울 곳곳을 매력적인 수(水)세권으로 재편합니다.\n",
      "내년 상반기까지 '도림천' '정릉천' '홍제천(상·중류)'에서의 시범사업을 시작으로, 2030년까지 서울 전역으로 확대할 예정이에요🙂\n",
      "\n",
      "🌊#도림천\n",
      "신원시장‧순대타운 등 지역상권과 가까운 ‘도림천’은 음식과 문화를 함께 즐길 수 있도록 수변테라스 등을 조성할 계획!\n",
      "\n",
      "🌊#정릉천\n",
      "경관을 해치고 이용도도 떨어졌던 애물단지 복개구조물이 '도심 속 문화캔버스'를 콘셉트로 한 복합문화공간으로 재탄생 예정!\n",
      "\n",
      "🌊#홍제천\n",
      "홍제천 상류에는 수려한 암반 경관과 역사 문화재인 홍지문‧탕춘대성과 연계한 공간으로 조성, 중류인 인공폭포 주변에는 '노천카페' 오픈 예정!\n",
      "\n",
      "#seoul_official\n",
      "39\n",
      "지금 청계천은?🌛✨\n",
      "\n",
      "[연등회 #전통등전시회]\n",
      "✨4월 26일 ~ 5월 10일까지 점등\n",
      "📍청계천 입구 ~ 삼일교\n",
      "\n",
      "#봄밤 #서울 #청계천 #청계광장 #연등회\n",
      "#Cheonggyecheon #LotusLanternFestival\n",
      "#seoul_official\n",
      "82\n",
      "만 19~24세: 대중교통 이용할게\n",
      "대중교통: 환영할게\n",
      "서울시: 지원할게\n",
      "\n",
      "[#서울시 #청년대중교통비 지원 🚌🚎]\n",
      "✔신청기간: 4.27(수)~5.27(금) 18시\n",
      "✔지원대상: 만 19세~24세 서울 거주 청년\n",
      "✔지원규모: 신청자격을 충족하는 청년 15만명 내외\n",
      "✔신청방법: '청년몽땅정보통' 홈페이지에서 신청\n",
      "✔지원내용: 교통비 사용금액의 20%를 연간 10만원 한도의 교통마일리지로 환급\n",
      "🖥#청년몽땅정보통 홈페이지: @seoul_official 프로필 하이라이트 확인🤳\n",
      "📱문의 1644-9241\n",
      "\n",
      "🔎 자세한 내용은? 서울청년생활 인스타그램 @make.your.seoul\n",
      "#해치 #seoul_official\n",
      "19\n",
      "1930년대 한옥의 변신!／¯＼\n",
      "가회동 #북촌빈관 개관🥳\n",
      "\n",
      "☝'북촌빈관'은 일제강점기 북촌 한옥 주거지를 지켜낸 민족운동가 정세권 선생의 흔적을 보유한 가옥으로, 2019년 시에서 매입 및 공사 후 지상층에는 한옥숙박공간을, 지하층은 주민 커뮤니티 라운지로 조성! 수익성과 공공성이 결합된 새로운 #공공한옥 모델로 재탄생했습니다!🤗\n",
      "\n",
      "[공간 이용 안내]\n",
      "✅한옥숙박공간 예약: 락고재 홈페이지(http://www.rakkojae.com)에서 가능(※ 유료 예약)\n",
      "✅커뮤니티 라운지\n",
      "- 주민·시민 공공쉼터, 방문객 안내소, 전시 대관, 전통차 카페 등으로 구성\n",
      "- 운영시간: 수~일 10:00~17:00(휴관일 월/화)\n",
      "※ 쉼터 및 안내소는 무료로 이용 가능하며, 카페 음료는 유료로 판매되고 있습니다.\n",
      "\n",
      "📌#북촌 거주민 할인 혜택: 숙박공간 이용시 상시 20% 할인/ '더 라운지'에서 전통차 이용 및 체험프로그램 참여시 50% 할인 및 지역 모임에는 월 1회 무료 단독 대관 가능\n",
      "\n",
      "#BukchonBinkwan #bukchon\n",
      "#seoul_official\n",
      "15\n",
      "📢서울 시내버스 정상 운행🚍\n",
      "오늘(4.26) 새벽 버스 노사 협상이 타결되어 파업에 대비해 발표했던 비상수송대책을 해제, 4.26(화) 시내버스 전 노선이 정상 운행됩니다. 이용에 참고하시기 바랍니다.\n",
      "\n",
      "#seoul_official\n",
      "18\n",
      "[안내] 오늘(4.26) 새벽 서울 버스노사 협상이 타결되어 파업에 대비해 발표했던 비상수송대책을 해제, 4.26(화) 시내버스 전 노선이 정상 운행됩니다.\n",
      ".\n",
      ".\n",
      ".\n",
      "📢시내버스 노조파업이 내일(4.26) 예정됨에 따라 '비상수송대책'을 가동합니다.\n",
      "\n",
      "✔지하철 출퇴근 혼잡시간 1시간 늘려 열차 투입↑\n",
      "*막차 1시간 연장, 익일 1시까지 운행\n",
      "✔마을버스는 정상운행\n",
      "✔전세버스 등 무료 셔틀버스 지하철역 연계 운행\n",
      "*셔틀버스 노선은 자치구별 홈페이지 참고\n",
      "✔개인택시 부제해제\n",
      "✔정류소 인근 따릉이의 원활한 수급을 위한 집중관리\n",
      "\n",
      "※ 120다산콜센터, 토피스, 정류소 버스 정보 안내 단말기 등을 통해 교통정보 실시간 안내\n",
      "\n",
      "📌출근길 불편함을 최소화할 수 있도록 비상수송대책을 시행하니 이동 전 각 자치구별 홈페이지를 통해 셔틀버스 운행 정보 등을 확인해 주세요.\n",
      "\n",
      "📌가까운 거리는 도보 이동 또는 따릉이 타기, 대중교통은 마을버스나 지하철을 이용해 주시고, 자가용의 경우 같은 방향의 이웃·동료와 함께 탑승해 주시기 바랍니다.\n",
      "17\n",
      "드디어 2년 만에 열린 야외 행사!🤭😍\n",
      "<#책읽는서울광장>, 매주 금·토 운영!!\n",
      "@@잔디 위에서 같이 책 볼래?📚🌿\n",
      "\n",
      "[책 읽는 서울광장]\n",
      "📅4.23(토)~10.29(토) 매주 금·토\n",
      "⏰운영시간: 11:00~16:00\n",
      "※ 7~8월은 무더위로 미운영\n",
      "☝️금·토 오전 11:00~16:00 서울도서관에 소장된 책들을 광장으로 가져나가서 읽을 수 있습니다.\n",
      "🔎서울도서관 @seoul_library, 서울시 문화본부 @seoulcity_culture\n",
      "\n",
      "#실시간 #서울광장 #세계책의날\n",
      "#SeoulPlaza #WorldBookDay #📚\n",
      "#seoul_official\n",
      ".\n",
      ".\n",
      ".\n",
      "📢'서울광장 임시선별검사소' 운영 중단 안내❗\n",
      "PCR 검사는 중구보건소 또는 서울역 임시선별검사소 방문, 신속항원검사는 가까운 동네 병·의원을 방문해 주시기 바랍니다.\n",
      "또한, 한시적으로 청계광장에 4.24.~4.30.까지 7일간 '시 직영 검사소'를 운영하니, 이용에 참고해 주세요.\n",
      "※ 청계광장 검사소 운영시간: (평일) 09:00~18:00, (주말) 09:00~13:00\n",
      "74\n",
      "#벚꽃엔딩\n",
      "내년에 만나-🌸👋\n",
      "\n",
      "🎵BGM: 봄날, 벚꽃 그리고 너 - 에피톤 프로젝트 @epitone.project\n",
      "\n",
      "#서울벚꽃들 #즐거웠어🥲🥰\n",
      "#여의도 #봄꽃길 #여의서로 #🌸\n",
      "#Yeouiseoro #Yeouido\n",
      "#seoul_official\n",
      "40\n"
     ]
    }
   ],
   "source": [
    "a_info, c_info = account_crawling(driver)"
   ]
  },
  {
   "cell_type": "code",
   "execution_count": null,
   "id": "2a09a2fd",
   "metadata": {},
   "outputs": [],
   "source": []
  }
 ],
 "metadata": {
  "kernelspec": {
   "display_name": "Python 3",
   "language": "python",
   "name": "python3"
  },
  "language_info": {
   "codemirror_mode": {
    "name": "ipython",
    "version": 3
   },
   "file_extension": ".py",
   "mimetype": "text/x-python",
   "name": "python",
   "nbconvert_exporter": "python",
   "pygments_lexer": "ipython3",
   "version": "3.8.8"
  }
 },
 "nbformat": 4,
 "nbformat_minor": 5
}

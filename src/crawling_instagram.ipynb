{
 "cells": [
  {
   "cell_type": "markdown",
   "id": "dc002479",
   "metadata": {},
   "source": [
    "#### 필요 라이브러리 Import "
   ]
  },
  {
   "cell_type": "code",
   "execution_count": 4,
   "id": "46f15652",
   "metadata": {},
   "outputs": [],
   "source": [
    "from selenium import webdriver\n",
    "from tqdm.notebook import tqdm\n",
    "from bs4 import BeautifulSoup\n",
    "import time\n",
    "import re\n",
    "import unicodedata\n",
    "import requests"
   ]
  },
  {
   "cell_type": "markdown",
   "id": "1b24b09b",
   "metadata": {},
   "source": [
    "#### 드라이버 기본 설정 "
   ]
  },
  {
   "cell_type": "code",
   "execution_count": 5,
   "id": "c5427620",
   "metadata": {},
   "outputs": [],
   "source": [
    "def set_driver():\n",
    "    options = webdriver.ChromeOptions()\n",
    "    options.add_argument('--no-sandbox')\n",
    "    options.add_argument('--disable-dev-shm-usage')\n",
    "    options.add_experimental_option(\"excludeSwitches\", [\"enable-logging\"])\n",
    "\n",
    "    driver = webdriver.Chrome(\"./chromedriver.exe\", options=options)\n",
    "    driver.set_window_size(1024, 768)\n",
    "    return driver \n",
    "\n",
    "set_driver()"
   ]
  },
  {
   "cell_type": "markdown",
   "id": "926757d8",
   "metadata": {},
   "source": [
    "#### Instagram 접속 "
   ]
  },
  {
   "cell_type": "code",
   "execution_count": 13,
   "id": "c6f6c086",
   "metadata": {},
   "outputs": [],
   "source": [
    "#인스타그램 페이지 연결\n",
    "driver.get('https://www.instagram.com')\n",
    "time.sleep(2)"
   ]
  },
  {
   "cell_type": "markdown",
   "id": "ac3c2a1c",
   "metadata": {},
   "source": [
    "#### Instagram login"
   ]
  },
  {
   "cell_type": "code",
   "execution_count": 14,
   "id": "f0d9baa3",
   "metadata": {},
   "outputs": [
    {
     "name": "stdout",
     "output_type": "stream",
     "text": [
      "이메일을 입력하세요.pomate@g.skku.edu\n",
      "비밀번호를 입력하세요. 결과 창에 비밀번호가 공개되는 것을 방지하려면 아무것도 입력하지 마세요.            생성된 크롬창에서 직접 비밀번호를 입력하세요.Dhwoehd12\n",
      "인스타그램 로그인 확인을 위한 10초 타이머 시작\n"
     ]
    },
    {
     "data": {
      "application/vnd.jupyter.widget-view+json": {
       "model_id": "13c3f3613a354e4e9eaa305559b565bd",
       "version_major": 2,
       "version_minor": 0
      },
      "text/plain": [
       "  0%|          | 0/10 [00:00<?, ?it/s]"
      ]
     },
     "metadata": {},
     "output_type": "display_data"
    }
   ],
   "source": [
    "email = input('이메일을 입력하세요.')\n",
    "pw = input('비밀번호를 입력하세요. 결과 창에 비밀번호가 공개되는 것을 방지하려면 아무것도 입력하지 마세요.\\\n",
    "            생성된 크롬창에서 직접 비밀번호를 입력하세요.')\n",
    "\n",
    "# id 입력 \n",
    "input_id = driver.find_elements_by_css_selector('input._2hvTZ.pexuQ.zyHYP')[0]\n",
    "input_id.clear()\n",
    "input_id.send_keys(email)\n",
    "\n",
    "# pw 입력 \n",
    "input_pw = driver.find_elements_by_css_selector('input._2hvTZ.pexuQ.zyHYP')[1]\n",
    "input_pw.clear()\n",
    "input_pw.send_keys(pw)\n",
    "input_pw.submit()\n",
    "\n",
    "print('인스타그램 로그인 확인을 위한 10초 타이머 시작')\n",
    "for i in tqdm(range(10)):   # 로그인 확인을 위한 대기시간 10초 \n",
    "    time.sleep(1)"
   ]
  },
  {
   "cell_type": "markdown",
   "id": "cb89c307",
   "metadata": {},
   "source": [
    "#### 해시태그 기반 게시글 검색 "
   ]
  },
  {
   "cell_type": "code",
   "execution_count": 7,
   "id": "ade19f81",
   "metadata": {},
   "outputs": [],
   "source": [
    "def insta_searching(word):\n",
    "    '''\n",
    "    검색하고 싶은 해시태그를 입력으로 받아, url을 반환\n",
    "    '''\n",
    "    url = 'https://www.instagram.com/explore/tags/' + word\n",
    "    return url"
   ]
  },
  {
   "cell_type": "code",
   "execution_count": 8,
   "id": "f22a2144",
   "metadata": {},
   "outputs": [
    {
     "data": {
      "text/plain": [
       "'https://www.instagram.com/explore/tags/제주도맛집'"
      ]
     },
     "execution_count": 8,
     "metadata": {},
     "output_type": "execute_result"
    }
   ],
   "source": [
    "url = insta_searching('제주도맛집')\n",
    "url"
   ]
  },
  {
   "cell_type": "code",
   "execution_count": 174,
   "id": "a98932f8",
   "metadata": {
    "scrolled": true
   },
   "outputs": [
    {
     "name": "stdout",
     "output_type": "stream",
     "text": [
      "키워드를 입력해주세요: 홍대\n"
     ]
    }
   ],
   "source": [
    "word = input('키워드를 입력해주세요: ')    # 검색어\n",
    "url = insta_searching(word)   # url 생성 \n",
    "driver.get(url)   # 접속 \n",
    "time.sleep(10)"
   ]
  },
  {
   "cell_type": "markdown",
   "id": "1b6ab3ff",
   "metadata": {},
   "source": [
    "#### 게시글 크롤링하기"
   ]
  },
  {
   "cell_type": "code",
   "execution_count": 7,
   "id": "43bb8aa8",
   "metadata": {},
   "outputs": [],
   "source": [
    "def select_first(driver):\n",
    "    '''\n",
    "    해시태그 결과 게시글 중 첫번째 게시물을 선택하는 함수\n",
    "    '''\n",
    "    driver.find_element_by_xpath('//*[@id=\"react-root\"]/div/div/section/main/article/div[1]/div/div/div[1]/div[1]/a/div[1]/div[2]').click()\n",
    "    time.sleep(3)"
   ]
  },
  {
   "cell_type": "code",
   "execution_count": 8,
   "id": "bd5fd116",
   "metadata": {},
   "outputs": [],
   "source": [
    "def get_content(driver):\n",
    "    '''\n",
    "    크롤링할 콘텐츠 지정 \n",
    "    본문 내용, 좋아요 수, 위치, 해시태그, 이미지 url을 크롤링해서 반환함 \n",
    "    '''\n",
    "    # 현재 페이지 html 정보 가져오기\n",
    "    html = driver.page_source\n",
    "    soup = BeautifulSoup(html, 'html.parser') \n",
    "    try:   # 본문 내용 가져오기\n",
    "        content = driver.find_element_by_xpath('/html/body/div[6]/div[3]/div/article/div/div[2]/div/div/div[2]/div[1]\\\n",
    "        /ul/div/li/div/div/div[2]/div[1]/span').text \n",
    "        print(content)\n",
    "        # content = unicodedata.normalize('NFC', content) \n",
    "    except:\n",
    "        content = ' x'\n",
    "    # 본문 내용에서 해시태그 가져오기(정규식 활용)\n",
    "    tags = re.findall(r'#[^\\s#,\\\\]+', content)  \n",
    "    try:   # 좋아요 수 가져오기  \n",
    "        like = driver.find_element_by_xpath('/html/body/div[6]/div[3]/div/article/div/div[2]/div/div/div[2]/section[2]/\\\n",
    "        div/div/div/a/div/span').text    \n",
    "    except:\n",
    "        like = 0\n",
    "    try:   # 위치정보 가져오기\n",
    "        place = soup.select('div.M30cS')[0].text\n",
    "        place = unicodedata.normalize('NFC', place)\n",
    "    except:\n",
    "        place = ''\n",
    "    try:   # img url 가져오기 /html/body/div[6]/div[3]/div/article/div/div[2]/div/div/div[1]/div[1]/img\n",
    "        img_data = driver.find_element_by_xpath('/html/body/div[6]/div[3]/div/article/div/div[1]/div/div/div[1]/img')\n",
    "        img_url = img_data.get_attribute('src')\n",
    "    except:\n",
    "        img_url = ''\n",
    "    # 수집한 정보 저장하기\n",
    "    data = [content, like, place, tags, img_url]\n",
    "    return data"
   ]
  },
  {
   "cell_type": "code",
   "execution_count": 9,
   "id": "cdf833ef",
   "metadata": {},
   "outputs": [],
   "source": [
    "def get_n_contents(driver, target):\n",
    "    word = input('키워드를 입력해주세요: ')    # 검색어\n",
    "    url = insta_searching(word)   # url 생성 \n",
    "    driver.get(url)   # 접속 \n",
    "    time.sleep(10)\n",
    "    select_first(driver)\n",
    "    time.sleep(3)\n",
    "    results = []   # 크롤링 결과 저장할 변수  \n",
    "    \n",
    "    for idx in tqdm(range(1, int(target) + 1)):\n",
    "        try:\n",
    "            data = get_content(driver)    # 게시글 정보 가져오기\n",
    "            results.append(data)\n",
    "            if idx == 1:\n",
    "                driver.find_element_by_xpath('/html/body/div[6]/div[2]/div/div/button').click()\n",
    "                time.sleep(1)\n",
    "            else:\n",
    "                driver.find_element_by_xpath('/html/body/div[6]/div[2]/div/div[2]/button').click()\n",
    "                time.sleep(1)\n",
    "        except:\n",
    "            continue \n",
    "    return word, results"
   ]
  },
  {
   "cell_type": "code",
   "execution_count": 15,
   "id": "cd6311a9",
   "metadata": {
    "scrolled": true
   },
   "outputs": [
    {
     "name": "stdout",
     "output_type": "stream",
     "text": [
      "키워드를 입력해주세요: 커플\n"
     ]
    },
    {
     "data": {
      "application/vnd.jupyter.widget-view+json": {
       "model_id": "3f4cea7861044369ad37ac03c3d9ec3d",
       "version_major": 2,
       "version_minor": 0
      },
      "text/plain": [
       "  0%|          | 0/500 [00:00<?, ?it/s]"
      ]
     },
     "metadata": {},
     "output_type": "display_data"
    },
    {
     "name": "stdout",
     "output_type": "stream",
     "text": [
      "울애기 얼집에서 생파🧡\n",
      "집에서 찍은것보다 더 예쁘게 잘 나왔네? ㅋㅋㅋㅋ 친구들이 축하해줘서 너무너무 행복했다는 하찌니❣️\n",
      "\n",
      "하지니가 즐겁고 행복했다니 엄마두 좋다🧡\n",
      "\n",
      "울애기 다시한번 엄마아빠한테 와줘서 고마워❣️사랑해🥰\n",
      "\n",
      "#24개월아기#두돌#생일#두돌생일파티#아들룩#아들맘#초보맘#도치맘#쥐띠맘#얼집생파#럽스타그램#육아#소통#일상\n",
      "\n",
      "#내일 캠핑가서 또 생파하자…..ㅋㅋㅋㅋㅋㅋㅋㅋㅋㅋ😅\n",
      "\n",
      "정말 1주일내내 생일이라더니 그말이 맞구나🤣\n",
      "유채꽃이 내 키랑 같다니..!!😳\n",
      "끝물이라서 아쉬웠지만\n",
      "그래도 너무 이뻣던 유채꽃💛\n",
      "\n",
      "#제주도\n",
      "#신혼여행\n",
      "#가파도유채꽃\n",
      "둘이 첫노래방🤭\n",
      "신랑 노래는 나만 듣는걸로🙈🙊🙉\n",
      "신난다 신나\n",
      ".\n",
      ".\n",
      ".\n",
      ".\n",
      "#럽스타그램\n",
      "#신혼부부일상\n",
      "#평일일상\n",
      "#저녁마실\n",
      "#화성우리집\n",
      "저녁산책\n",
      "\n",
      "#일상그램 #좋아요 #육아맘 #육아스타그램 #맘스타그램 #행복스타그램 #럽스타그램 #육아소통 #육아일기 #ootd #딸바보 #엄마랑 #소통여행 #여행스타그램 #가족스타그램 #운동스타그램 #힐링 #옷스타그램 #쇼핑스타그램 #셀카그램 #사랑해 #운동스타그램 #수영 #집스타그램 #금요일 #저녁\n",
      "\n",
      "울애기 얼집에서 생파🧡\n",
      "집에서 찍은것보다 더 예쁘게 잘 나왔네? ㅋㅋㅋㅋ 친구들이 축하해줘서 너무너무 행복했다는 하찌니❣️\n",
      "\n",
      "하지니가 즐겁고 행복했다니 엄마두 좋다🧡\n",
      "\n",
      "울애기 다시한번 엄마아빠한테 와줘서 고마워❣️사랑해🥰\n",
      "\n",
      "#24개월아기#두돌#생일#두돌생일파티#아들룩#아들맘#초보맘#도치맘#쥐띠맘#얼집생파#럽스타그램#육아#소통#일상\n",
      "\n",
      "#내일 캠핑가서 또 생파하자…..ㅋㅋㅋㅋㅋㅋㅋㅋㅋㅋ😅\n",
      "\n",
      "정말 1주일내내 생일이라더니 그말이 맞구나🤣\n"
     ]
    }
   ],
   "source": [
    "# 50개 게시글 크롤링 \n",
    "keyword, results = get_n_contents(driver, 500)"
   ]
  },
  {
   "cell_type": "markdown",
   "id": "62c3a519",
   "metadata": {},
   "source": [
    "#### 크롤링한 데이터 csv 파일로 저장 "
   ]
  },
  {
   "cell_type": "code",
   "execution_count": 212,
   "id": "29450712",
   "metadata": {},
   "outputs": [],
   "source": [
    "import pandas as pd\n",
    "import os \n",
    "\n",
    "if not os.path.exists('./files'):\n",
    "    os.mkdir('./files')"
   ]
  },
  {
   "cell_type": "code",
   "execution_count": 213,
   "id": "5f36797e",
   "metadata": {},
   "outputs": [],
   "source": [
    "results_df = pd.DataFrame(results)\n",
    "results_df.columns = ['content', 'like', 'place', 'tags', 'img_url']\n",
    "results_df.drop_duplicates(subset = 'content' , inplace = True)   # 중복 게시글 제거\n",
    "results_df.reset_index(drop=True, inplace = True)   # 인덱스 재설정\n",
    "results_df.to_csv(f'./files/{keyword}.csv', index=None)"
   ]
  },
  {
   "cell_type": "code",
   "execution_count": null,
   "id": "8681ad61",
   "metadata": {},
   "outputs": [],
   "source": []
  }
 ],
 "metadata": {
  "kernelspec": {
   "display_name": "Python 3",
   "language": "python",
   "name": "python3"
  },
  "language_info": {
   "codemirror_mode": {
    "name": "ipython",
    "version": 3
   },
   "file_extension": ".py",
   "mimetype": "text/x-python",
   "name": "python",
   "nbconvert_exporter": "python",
   "pygments_lexer": "ipython3",
   "version": "3.8.8"
  }
 },
 "nbformat": 4,
 "nbformat_minor": 5
}
